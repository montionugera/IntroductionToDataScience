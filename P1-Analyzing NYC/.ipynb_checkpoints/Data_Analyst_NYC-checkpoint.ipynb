{
 "cells": [
  {
   "cell_type": "markdown",
   "metadata": {},
   "source": [
    "# Statistics: The Science of Decisions Project Instructions\n",
    "\n",
    "## Background Information\n",
    "\n",
    "In a Stroop task, participants are presented with a list of words, with each word displayed in a color of ink. The participant’s task is to say out loud the color of the ink in which the word is printed. The task has two conditions: a congruent words condition, and an incongruent words condition. In the congruent words condition, the words being displayed are color words whose names match the colors in which they are printed: for example RED, BLUE. In the incongruent words condition, the words displayed are color words whose names do not match the colors in which they are printed: for example PURPLE, ORANGE. In each case, we measure the time it takes to name the ink colors in equally-sized lists. Each participant will go through and record a time from each condition."
   ]
  },
  {
   "cell_type": "markdown",
   "metadata": {},
   "source": [
    "### 1. What is our independent variable? What is our dependent variable?"
   ]
  },
  {
   "cell_type": "markdown",
   "metadata": {},
   "source": [
    "ANS : \n",
    "independent variable : congruent/incongruent words condition.\n",
    "dependent variable : the time it takes to name the ink colors in equally-sized lists."
   ]
  },
  {
   "cell_type": "markdown",
   "metadata": {},
   "source": [
    "### 2. What is an appropriate set of hypotheses for this task? What kind of statistical test do you expect to perform? Justify your choices.\n",
    "\n",
    "Now it’s your chance to try out the Stroop task for yourself. Go to [thislink](https://faculty.washington.edu/chudler/java/ready.html), which has a Java-based applet for performing the Stroop task. Record the times that you received on the task (you do not need to submit your times to the site.) Now, download this [dataset](https://drive.google.com/file/d/0B9Yf01UaIbUgQXpYb2NhZ29yX1U/view) which contains results from a number of participants in the task. Each row of the dataset contains the performance for one participant, with the first number their results on the congruent task and the second number their performance on the incongruent task."
   ]
  },
  {
   "cell_type": "code",
   "execution_count": 12,
   "metadata": {
    "collapsed": false
   },
   "outputs": [
    {
     "data": {
      "text/plain": [
       "24"
      ]
     },
     "execution_count": 12,
     "metadata": {},
     "output_type": "execute_result"
    }
   ],
   "source": [
    "import pandas as pd\n",
    "import os\n",
    "filename = r'~/WorkSpace/Udemy-Datascience/IntroductionToDataScience/P1-Analyzing NYC/stroopdata.csv'\n",
    "dataFrame = pd.read_csv(filename)\n",
    "len(dataFrame)"
   ]
  },
  {
   "cell_type": "markdown",
   "metadata": {},
   "source": [
    "#### 2.1 What is an appropriate set of hypotheses for this task?\n",
    "\n",
    "ANS: \n",
    "\n",
    "(HA)The hypothesis is \"Incogurent words condition make people take a longer time to say the correct words than the congruent words condition.\"\n",
    "\n",
    "(H0)The null hypothesis we use is \"Incongruent word condition will not impact the time to say and may actually make it shorter.\"\n",
    "\n",
    "We mention that the dependent variable is the \"time\",independent variable is words condition (Incogurent / congruent),control varible are the set of possible colors in each test must be the same (Red,Green,Blue,Yellow,Pink,White,Brown),\n",
    "\n",
    "    "
   ]
  },
  {
   "cell_type": "code",
   "execution_count": null,
   "metadata": {
    "collapsed": false
   },
   "outputs": [],
   "source": []
  },
  {
   "cell_type": "markdown",
   "metadata": {},
   "source": [
    "#### 2.2 What kind of statistical test do you expect to perform? \n",
    "\n",
    "ANS: \n",
    "Let participant perform experiment with 2 conditions and measure the time.\n",
    "1st condition, Say out loud the color of the ink in which the word is printed for 20 different words with a congruent words condition.\n",
    "2nd condition, Say out loud the color of the ink in which the word is printed for 20 different words with an incongruent words condition.\n",
    "\n",
    "\n",
    "To make sure that the data are not different just by chance, we perform the hypothesis Testing.\n",
    "\n",
    "(H0)The null hypothesis we use is \"Incongruent word condition will not impact the time to say and may actually make it shorter.\"\n",
    "\n",
    "#####Which test applicable? There are potentially several tests applicable when comparing means (t-test and z-test are for sure candidates) the choice should depend on the relevant assumptions.\n",
    "\n",
    "Since the sample size is below 30 and we do not know population parameters, we use t-score.\n",
    "\n",
    "#####Are you choosing a one tail or a two tailed test? Why? (This info could be inferred from your alternative hypothesis but should anyway be stated explicitly)\n",
    "We use one-tailed test for hypothesis testing follow by the hypothesis say \"Incogurent words condition make people take a longer time to say the correct words than the congruent words condition.\".\n",
    "\n",
    "Ref: http://www.statisticshowto.com/when-to-use-a-t-score-vs-z-score/\n",
    "\n",
    "#####Could you please explicitly detail if you are choosing a dependent or independent sample test and why?\n",
    "The people are the same so we choose depedent sample test.\n"
   ]
  },
  {
   "cell_type": "markdown",
   "metadata": {},
   "source": [
    "### 3. Report some descriptive statistics regarding this dataset. Include at least one measure of central tendency and at least one measure of variability."
   ]
  },
  {
   "cell_type": "code",
   "execution_count": 8,
   "metadata": {
    "collapsed": false
   },
   "outputs": [],
   "source": [
    "\n"
   ]
  },
  {
   "cell_type": "code",
   "execution_count": 10,
   "metadata": {
    "collapsed": false,
    "scrolled": true
   },
   "outputs": [
    {
     "data": {
      "text/plain": [
       "14.051125000000004"
      ]
     },
     "execution_count": 10,
     "metadata": {},
     "output_type": "execute_result"
    }
   ],
   "source": [
    "dataFrame['Congruent'].mean()"
   ]
  },
  {
   "cell_type": "code",
   "execution_count": 13,
   "metadata": {
    "collapsed": false
   },
   "outputs": [
    {
     "data": {
      "text/plain": [
       "3.559357957645195"
      ]
     },
     "execution_count": 13,
     "metadata": {},
     "output_type": "execute_result"
    }
   ],
   "source": [
    "dataFrame['Congruent'].std()"
   ]
  },
  {
   "cell_type": "code",
   "execution_count": 9,
   "metadata": {
    "collapsed": false
   },
   "outputs": [
    {
     "data": {
      "text/plain": [
       "22.01591666666667"
      ]
     },
     "execution_count": 9,
     "metadata": {},
     "output_type": "execute_result"
    }
   ],
   "source": [
    "dataFrame['Incongruent'].mean()"
   ]
  },
  {
   "cell_type": "code",
   "execution_count": 14,
   "metadata": {
    "collapsed": false
   },
   "outputs": [
    {
     "data": {
      "text/plain": [
       "4.797057122469138"
      ]
     },
     "execution_count": 14,
     "metadata": {},
     "output_type": "execute_result"
    }
   ],
   "source": [
    "dataFrame['Incongruent'].std()"
   ]
  },
  {
   "cell_type": "markdown",
   "metadata": {},
   "source": [
    "#####ANS: \n",
    "    In experiment congruent condition:\n",
    "    Average time it takes is 14.05.\n",
    "    Unbiased standard deviation is 3.56.\n",
    "    \n",
    "    In experiment incongruent condition:\n",
    "    Average time it takes of experiment incongruent condition is 22.02. \n",
    "    Unbiased standard deviation is 4.80."
   ]
  },
  {
   "cell_type": "markdown",
   "metadata": {
    "collapsed": true
   },
   "source": [
    "###4. Provide one or two visualizations that show the distribution of the sample data. Write one or two sentences noting what you observe about the plot or plots."
   ]
  },
  {
   "cell_type": "markdown",
   "metadata": {
    "collapsed": true
   },
   "source": [
    "####ANS:"
   ]
  },
  {
   "cell_type": "code",
   "execution_count": 15,
   "metadata": {
    "collapsed": false
   },
   "outputs": [
    {
     "name": "stdout",
     "output_type": "stream",
     "text": [
      "Populating the interactive namespace from numpy and matplotlib\n"
     ]
    },
    {
     "data": {
      "image/png": "[encoded data removed]",
      "text/plain": [
       "<matplotlib.figure.Figure at 0x109e613d0>"
      ]
     },
     "metadata": {},
     "output_type": "display_data"
    }
   ],
   "source": [
    "\n",
    "# Causes plots to display within the notebook rather than in a new window\n",
    "%pylab inline\n",
    "import matplotlib.pyplot as plt\n",
    "\n",
    "df_compare = pd.DataFrame({'Congruent': dataFrame['Congruent'],\n",
    "               'Incongruent': dataFrame['Incongruent']})\n",
    "df_compare.plot(kind='hist', alpha=0.2,bins = range(0, 37 + 3, 3))\n",
    "\n",
    "plt.xlabel(\"time\")\n",
    "plt.ylabel(\"frequency\")\n",
    "plt.show()"
   ]
  },
  {
   "cell_type": "markdown",
   "metadata": {
    "collapsed": true
   },
   "source": [
    "As the histrogram show the congruent condition is normal distribution but the incongruent condition is skewed right distribution."
   ]
  },
  {
   "cell_type": "code",
   "execution_count": null,
   "metadata": {
    "collapsed": true
   },
   "outputs": [],
   "source": []
  },
  {
   "cell_type": "markdown",
   "metadata": {},
   "source": [
    "###5. Now, perform the statistical test and report your results. What is your confidence level and your critical statistic value? Do you reject the null hypothesis or fail to reject it? Come to a conclusion in terms of the experiment task. Did the results match up with your expectations?"
   ]
  },
  {
   "cell_type": "markdown",
   "metadata": {},
   "source": [
    "####ANS"
   ]
  },
  {
   "cell_type": "code",
   "execution_count": 18,
   "metadata": {
    "collapsed": false
   },
   "outputs": [
    {
     "name": "stdout",
     "output_type": "stream",
     "text": [
      "t : 8.02070694411 \n",
      "statistically highly significant p critical value : 0.001 \n",
      "reject_result : False (p = 0.0000000410)\n"
     ]
    }
   ],
   "source": [
    "import scipy\n",
    "import scipy.stats\n",
    "t,p = scipy.stats.ttest_rel(dataFrame['Incongruent'],dataFrame['Congruent'])\n",
    "p_critical = 0.001\n",
    "reject_result = p > p_critical\n",
    "\n",
    "print \"t : %s \" %t\n",
    "print \"statistically highly significant p critical value : %s \" %p_critical\n",
    "print \"reject_result : %s (p = %.10f)\" %(reject_result,p)"
   ]
  },
  {
   "cell_type": "markdown",
   "metadata": {},
   "source": [
    "I calculated a p-value of 0.0000001201. This p-value is less than the stated highly  significance level of 0.001. Therefore, we reject the null hypothesis.\n",
    "\n",
    "We can conclude that the conditions(incongruent) statistically affect how long it take to say out loud the color of the ink in which the word is printed.\n",
    "\n",
    "Did the results match up with your expectations? YES\n",
    "\n",
    "(ref : http://www.statsdirect.com/help/default.htm#basics/p_values.htm,\n",
    "    http://docs.scipy.org/doc/scipy-0.15.1/reference/generated/scipy.stats.ttest_rel.html,\n",
    "    http://iaingallagher.tumblr.com/post/50980987285/t-tests-in-python\n",
    "    \n",
    "    Paired t-test\n",
    "\n",
    "The paired t-test is used when we have two sets of repeated measures i.e. we have measured some parameter on the same subjects at different times (or under different conditions). In the example the weight of 9 people were recorded before they had abdominal surgery and then again 5 months later. We are asking if surgery leads to a change in weight.\n",
    "\n",
    ")\n"
   ]
  },
  {
   "cell_type": "markdown",
   "metadata": {},
   "source": [
    "###6. Optional: \n",
    "###What do you think is responsible for the effects observed? \n",
    "###Can you think of an alternative or similar task that would result in a similar effect? \n",
    "###Some research about the problem will be helpful for thinking about these two questions"
   ]
  },
  {
   "cell_type": "markdown",
   "metadata": {
    "collapsed": true
   },
   "source": [
    "I think incongruent conditions is reponsible for the experiment.\n",
    "\n",
    "We can reverse the experiment by say the words instead,the trend would be the same.\n"
   ]
  }
 ],
 "metadata": {
  "kernelspec": {
   "display_name": "Python 2",
   "language": "python",
   "name": "python2"
  },
  "language_info": {
   "codemirror_mode": {
    "name": "ipython",
    "version": 2
   },
   "file_extension": ".py",
   "mimetype": "text/x-python",
   "name": "python",
   "nbconvert_exporter": "python",
   "pygments_lexer": "ipython2",
   "version": "2.7.10"
  }
 },
 "nbformat": 4,
 "nbformat_minor": 0
}
